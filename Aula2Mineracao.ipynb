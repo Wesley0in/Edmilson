{
  "nbformat": 4,
  "nbformat_minor": 0,
  "metadata": {
    "colab": {
      "provenance": [],
      "authorship_tag": "ABX9TyN2gdm4jbJ2h72I6AKMThf5",
      "include_colab_link": true
    },
    "kernelspec": {
      "name": "python3",
      "display_name": "Python 3"
    },
    "language_info": {
      "name": "python"
    }
  },
  "cells": [
    {
      "cell_type": "markdown",
      "metadata": {
        "id": "view-in-github",
        "colab_type": "text"
      },
      "source": [
        "<a href=\"https://colab.research.google.com/github/Wesley0in/Edmilson/blob/master/Aula2Mineracao.ipynb\" target=\"_parent\"><img src=\"https://colab.research.google.com/assets/colab-badge.svg\" alt=\"Open In Colab\"/></a>"
      ]
    },
    {
      "cell_type": "markdown",
      "source": [],
      "metadata": {
        "id": "goLje6gKJvnk"
      }
    },
    {
      "cell_type": "code",
      "execution_count": null,
      "metadata": {
        "id": "fhpWA0kyIFWR"
      },
      "outputs": [],
      "source": [
        "#wget faz download do arquivo do link\n",
        "!wget https://www.dropbox.com/s/xqpuiaok9bj6eo2/brasil.csv\n"
      ]
    },
    {
      "cell_type": "code",
      "source": [
        "#abrir o arquivo e poder utilizar no projeto\n",
        "\n",
        "arquivo = open(\"brasil.csv\", encoding=\"utf-8\")\n",
        "\n",
        "for linha in arquivo: \n",
        "  print(linha)"
      ],
      "metadata": {
        "id": "2bdtaWfEKNde"
      },
      "execution_count": null,
      "outputs": []
    },
    {
      "cell_type": "code",
      "source": [
        "#utilizando bibliotecas para CSV com vetor\n",
        "\n",
        "import csv\n",
        "arquivo = open(\"brasil.csv\", encoding=\"utf-8\")\n",
        "\n",
        "for linha in csv.reader(arquivo):\n",
        "  print(linha)"
      ],
      "metadata": {
        "id": "VQSEHaZcOVuZ"
      },
      "execution_count": null,
      "outputs": []
    },
    {
      "cell_type": "code",
      "source": [
        "#utilizando bibliotecas para CSV com Jason\n",
        "\n",
        "import csv\n",
        "arquivo = open(\"brasil.csv\", encoding=\"utf-8\")\n",
        "\n",
        "for linha in csv.DictReader(arquivo):\n",
        "  print(linha)"
      ],
      "metadata": {
        "id": "LUM-AlUnOSmq"
      },
      "execution_count": null,
      "outputs": []
    },
    {
      "cell_type": "code",
      "source": [
        "#utilizando bibliotecas para CSV com Jason \n",
        "\n",
        "import csv\n",
        "arquivo = open(\"brasil.csv\", encoding=\"utf-8\")\n",
        "\n",
        "for linha in csv.DictReader(arquivo):\n",
        "  print(linha[\"municipio\"])"
      ],
      "metadata": {
        "id": "G8YTvi1iM035"
      },
      "execution_count": null,
      "outputs": []
    },
    {
      "cell_type": "code",
      "source": [
        "arquivo = open(\"brasil.csv\", encoding=\"utf-8\")"
      ],
      "metadata": {
        "id": "MQXjwdaHQL6n"
      },
      "execution_count": 28,
      "outputs": []
    },
    {
      "cell_type": "code",
      "source": [
        "#Total da população no brasil\n",
        "totalPopulacao = 0\n",
        "\n",
        "for linha in csv.reader(arquivo):\n",
        "  totalPopulacao += int(linha[2])\n",
        "\n",
        "print(\"total da população é\", totalPopulacao)"
      ],
      "metadata": {
        "colab": {
          "base_uri": "https://localhost:8080/"
        },
        "id": "jFo9XAc5RNN_",
        "outputId": "7463fb4e-61fd-4ccc-ba78-e5425bda08a0"
      },
      "execution_count": 26,
      "outputs": [
        {
          "output_type": "stream",
          "name": "stdout",
          "text": [
            "total da população é 190755799\n"
          ]
        }
      ]
    },
    {
      "cell_type": "code",
      "source": [
        "#Total da população do Rio de Janeiro\n",
        "totalPopulacao = 0\n",
        "arquivo = open(\"brasil.csv\", encoding=\"utf-8\")\n",
        "for linha in csv.DictReader(arquivo):\n",
        "  #nesse if estou selecionando apenas os municipios do RJ\n",
        "  if(linha[\"estado\"]==\"RJ\"):\n",
        "    totalPopulacao += int(linha[\"habitantes\"])\n",
        "\n",
        "print(\"Total da população do RJ é \", totalPopulacao)"
      ],
      "metadata": {
        "colab": {
          "base_uri": "https://localhost:8080/"
        },
        "id": "4_YdyKdmSZbU",
        "outputId": "6277ca0d-6bc9-4538-fdea-8c9035701905"
      },
      "execution_count": 33,
      "outputs": [
        {
          "output_type": "stream",
          "name": "stdout",
          "text": [
            "Total da população do RJ é  15989929\n"
          ]
        }
      ]
    },
    {
      "cell_type": "code",
      "source": [
        "#Municipio com maior população\n",
        "max = 0\n",
        "municipio = []\n",
        "arquivo = open(\"brasil.csv\", encoding=\"utf-8\")\n",
        "for linha in csv.DictReader(arquivo):\n",
        "  if(int(linha[\"habitantes\"])>max):\n",
        "    max=int(linha[\"habitantes\"])\n",
        "    municipio = linha\n",
        "\n",
        "print(\"O municipio\",municipio[\"municipio\"], \"com maior populacao tem \", max,\"habitantes\")"
      ],
      "metadata": {
        "colab": {
          "base_uri": "https://localhost:8080/"
        },
        "id": "q2hbIkDEUVf3",
        "outputId": "1bc73ebb-d3a3-4ced-a931-924538074f58"
      },
      "execution_count": 38,
      "outputs": [
        {
          "output_type": "stream",
          "name": "stdout",
          "text": [
            "O municipio São Paulo com maior populacao tem  11253503 habitantes\n"
          ]
        }
      ]
    },
    {
      "cell_type": "code",
      "source": [
        "#Municipio com maior area\n",
        "max = 0\n",
        "municipio = []\n",
        "arquivo = open(\"brasil.csv\", encoding=\"utf-8\")\n",
        "for linha in csv.DictReader(arquivo):\n",
        "  if(float(linha[\"area\"])>max):\n",
        "    max=float(linha[\"area\"])\n",
        "    municipio = linha\n",
        "\n",
        "print(\"O municipio\",municipio[\"municipio\"], \"tem a maior area com\", max,\"m2\")"
      ],
      "metadata": {
        "colab": {
          "base_uri": "https://localhost:8080/"
        },
        "id": "vKAbQ-ecWuSq",
        "outputId": "2875af4f-7f69-4f5a-c3bc-6e73e6152c22"
      },
      "execution_count": 40,
      "outputs": [
        {
          "output_type": "stream",
          "name": "stdout",
          "text": [
            "O municipio Altamira tem a maior area com  159533.73 m2\n"
          ]
        }
      ]
    },
    {
      "cell_type": "code",
      "source": [
        "#vamos criar um novo arquivo csv\n",
        "import csv\n",
        "import collections\n",
        "\n",
        "arquivo = open(\"brasil.csv\", encoding=\"utf-8\")\n",
        "\n",
        "arquivo_csv = open(\"estados.csv\", mode=\"w\", encoding=\"utf-8\")\n",
        "#criar um agrupamentoo para contador\n",
        "populacao = collections.Counter()\n",
        "\n",
        "for linha in csv.DictReader(arquivo):\n",
        "  populacao[linha[\"estado\"]] += int(linha['habitantes'])\n",
        "\n",
        "print(populacao)\n"
      ],
      "metadata": {
        "colab": {
          "base_uri": "https://localhost:8080/"
        },
        "id": "HW0OR7HiXXBy",
        "outputId": "2732fa83-479e-4109-8530-5a083b245f98"
      },
      "execution_count": 42,
      "outputs": [
        {
          "output_type": "stream",
          "name": "stdout",
          "text": [
            "Counter({'SP': 41262199, 'MG': 19597330, 'RJ': 15989929, 'BA': 14016906, 'RS': 10693929, 'PR': 10444526, 'PE': 8796448, 'CE': 8452381, 'PA': 7581051, 'MA': 6574789, 'SC': 6248436, 'GO': 6003788, 'PB': 3766528, 'ES': 3514952, 'AM': 3483985, 'RN': 3168027, 'AL': 3120494, 'PI': 3118360, 'MT': 3035122, 'DF': 2570160, 'MS': 2449024, 'SE': 2068017, 'RO': 1562409, 'TO': 1383445, 'AC': 733559, 'AP': 669526, 'RR': 450479})\n"
          ]
        }
      ]
    },
    {
      "cell_type": "code",
      "source": [
        "#vamos criar um novo arquivo csv\n",
        "import csv\n",
        "import collections\n",
        "\n",
        "arquivo = open(\"brasil.csv\", encoding=\"utf-8\")\n",
        "#aqui criamos o novo arquivo\n",
        "arquivo_csv = open(\"estados.csv\", mode=\"w\", encoding=\"utf-8\")\n",
        "#criar um agrupamentoo para contador\n",
        "populacao = collections.Counter()\n",
        "\n",
        "for linha in csv.DictReader(arquivo):\n",
        "  populacao[linha[\"estado\"]] += int(linha['habitantes'])\n",
        "\n",
        "#colocamos o arquivo em contexto para podemos escrever e manipular\n",
        "with open(\"estados.csv\",\"w\") as arquivoNovo:\n",
        "  arquivoNovo = csv.writer(arquivoNovo,delimiter=\",\")\n",
        "  arquivoNovo.writerow([\"estado\",\"habitantes\"])\n",
        "  #ele separa por estado e população que ja tinhamos somado logo acima\n",
        "  for estado,populacao in populacao.most_common():\n",
        "    arquivoNovo.writerow([estado,populacao])\n",
        "\n",
        "\n"
      ],
      "metadata": {
        "id": "D7vKySuEb_O9"
      },
      "execution_count": 43,
      "outputs": []
    }
  ]
}